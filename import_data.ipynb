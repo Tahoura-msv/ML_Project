import pandas as pd
from sklearn.model_selection import train_test_split

y1=[1 for _ in range(105)]
y2=[2 for _ in range(105)]
y3=[3 for _ in range(105)]
y4=[4 for _ in range(105)]
y5=[5 for _ in range(105)]


# reading data from CSV files:
dfs1 = pd.read_csv('class_1.csv',header=None)
dfs1['y']=y1

dfs2 = pd.read_csv('class_2.csv',header=None)
dfs2['y']=y2

dfs3 = pd.read_csv('class_3.csv',header=None)
dfs3['y']=y3

dfs4 = pd.read_csv('class_4.csv',header=None)
dfs4['y']=y4

dfs5 = pd.read_csv('class_5.csv',header=None)
dfs5['y']=y5

bt1=dfs1.sample(frac=10,replace=True)
bt2=dfs2.sample(frac=10,replace=True)
bt3=dfs3.sample(frac=10,replace=True)
bt4=dfs4.sample(frac=10,replace=True)
bt5=dfs5.sample(frac=10,replace=True)


#print(dfs1)
#print(bt1.describe())
#print(dfs1.describe())


# 10% bootstrap:
Xtrain1, Xtest1 = train_test_split(bt1, test_size=0.1,shuffle=True, random_state=1)
Xtrain2, Xtest2 = train_test_split(bt2, test_size=0.1,shuffle=True, random_state=1)
Xtrain3, Xtest3 = train_test_split(bt3, test_size=0.1,shuffle=True, random_state=1)
Xtrain4, Xtest4 = train_test_split(bt4, test_size=0.1,shuffle=True, random_state=1)
Xtrain5, Xtest5 = train_test_split(bt5, test_size=0.1,shuffle=True, random_state=1)

Data_Train=pd.concat([Xtrain1, Xtrain2, Xtrain3, Xtrain4,Xtrain5])
Data_test=pd.concat([Xtest1, Xtest2, Xtest3, Xtest4,Xtest5])

Data_Train.to_csv('Train_data.csv')
Data_test.to_csv('Test_data.csv')
